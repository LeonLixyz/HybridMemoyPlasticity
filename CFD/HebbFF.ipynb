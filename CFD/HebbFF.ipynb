{
 "cells": [
  {
   "cell_type": "code",
   "execution_count": 1,
   "id": "829fc64b",
   "metadata": {},
   "outputs": [],
   "source": [
    "import Anti_HebbFF_Network as AHF\n",
    "import torch\n",
    "import torch.nn as nn\n",
    "import torch.nn.functional as F\n",
    "import torch.optim as optim\n",
    "from torch.utils.data import random_split\n",
    "import numpy as np\n",
    "import matplotlib.pyplot as plt\n",
    "import math\n",
    "import random\n",
    "import torchviz\n",
    "import sys\n",
    "import copy\n",
    "import os\n",
    "# from torch.utils.tensorboard import SummaryWriter"
   ]
  },
  {
   "cell_type": "code",
   "execution_count": 2,
   "id": "bbd16c1c",
   "metadata": {},
   "outputs": [],
   "source": [
    "# meta parameters\n",
    "vec_len = 100\n",
    "T = 500\n",
    "lr = 0.001\n",
    "batch_size = 64\n",
    "acc = 0.98\n",
    "hid_dim = 100\n",
    "out_dim = 1"
   ]
  },
  {
   "cell_type": "code",
   "execution_count": 3,
   "id": "01f138ab",
   "metadata": {},
   "outputs": [],
   "source": [
    "HebbFF_CFD = AHF.HebbFF(input_dim = vec_len, hid_dim=hid_dim, out_dim=out_dim, batch_size = batch_size)\n",
    "criterion = nn.BCELoss()\n",
    "optimizer = torch.optim.Adam(HebbFF_CFD.parameters(),lr = lr)"
   ]
  },
  {
   "cell_type": "markdown",
   "id": "578448fa",
   "metadata": {},
   "source": [
    "## R = 1"
   ]
  },
  {
   "cell_type": "code",
   "execution_count": null,
   "id": "3975ea8b",
   "metadata": {},
   "outputs": [],
   "source": [
    "R = 1"
   ]
  },
  {
   "cell_type": "code",
   "execution_count": null,
   "id": "51787525",
   "metadata": {},
   "outputs": [],
   "source": [
    "AHF.acc_train(HebbFF_CFD, acc, batch_size, vec_len, R, T, criterion, optimizer,print_log = 10)"
   ]
  },
  {
   "cell_type": "code",
   "execution_count": null,
   "id": "e1d15abc",
   "metadata": {},
   "outputs": [],
   "source": [
    "PATH = os.getcwd() + '/Model/R_{}'.format(R)\n",
    "torch.save(HebbFF_CFD.state_dict(), PATH)"
   ]
  },
  {
   "cell_type": "code",
   "execution_count": null,
   "id": "43820268",
   "metadata": {},
   "outputs": [],
   "source": [
    "ACC_R = []\n",
    "for i in range(1, 151):\n",
    "    input_seq,target_seq = AHF.generate_seq(batch_size = batch_size, vec_len = vec_len, R = i, T = T)\n",
    "    accuracy,total_loss = AHF.test(HebbFF_CFD,criterion,optimizer,input_seq,target_seq,T,batch_size)\n",
    "    ACC_R.append(accuracy.item())\n",
    "\n",
    "r_axis = np.arange(1,151)\n",
    "plt.plot(r_axis,ACC_R)\n",
    "plt.title(\"Accuracy across different intervals after training with R in [1,150]\")"
   ]
  },
  {
   "cell_type": "code",
   "execution_count": null,
   "id": "d2a7284f",
   "metadata": {},
   "outputs": [],
   "source": [
    "ACC_R = []\n",
    "HebbFF_CFD.batch_size = 20\n",
    "batch_size = 20\n",
    "T = 1000\n",
    "for i in range(1, 501):\n",
    "    input_seq,target_seq = AHF.generate_seq(batch_size = batch_size, vec_len = vec_len, R = i, T = T)\n",
    "    accuracy,total_loss = AHF.test(HebbFF_CFD,criterion,optimizer,input_seq,target_seq,T,batch_size)\n",
    "    ACC_R.append(accuracy.item())\n",
    "\n",
    "r_axis = np.arange(1,501)\n",
    "plt.plot(r_axis,ACC_R)\n",
    "plt.title(\"Accuracy across different intervals after training with R in [1,150]\")"
   ]
  },
  {
   "cell_type": "code",
   "execution_count": null,
   "id": "6dd7f09c",
   "metadata": {},
   "outputs": [],
   "source": [
    "HebbFF_CFD.batch_size = 1\n",
    "HebbFF_CFD.A = torch.zeros(HebbFF_CFD.batch_size, 100,100)\n",
    "batch_size = 1\n",
    "T = 1000\n",
    "R = 400\n",
    "input_seq,target_seq = AHF.generate_seq(batch_size = batch_size, vec_len = vec_len, R = R, T = T)\n",
    "out = []\n",
    "for i in range(T):\n",
    "    x_t = input_seq[:,i,:]\n",
    "    target = target_seq[:,i,:]\n",
    "\n",
    "    output = HebbFF_CFD(x_t)\n",
    "    loss = criterion(output, target)\n",
    "    total_loss += loss\n",
    "\n",
    "    predicted = (output>0.5).float()\n",
    "    out.append(predicted)\n",
    "    accuracy  += (predicted == target).sum()\n"
   ]
  },
  {
   "cell_type": "code",
   "execution_count": null,
   "id": "359b3854",
   "metadata": {},
   "outputs": [],
   "source": [
    "batch_size = 64\n",
    "HebbFF_CFD.batch_size = 64\n",
    "HebbFF_CFD.A = torch.zeros(HebbFF_CFD.batch_size, 100,100)\n",
    "T = 500\n",
    "R = 1"
   ]
  },
  {
   "cell_type": "code",
   "execution_count": null,
   "id": "f5f65114",
   "metadata": {},
   "outputs": [],
   "source": [
    "while True:\n",
    "    R += 1\n",
    "    print('R: ',R)\n",
    "    AHF.acc_train(HebbFF_CFD, acc, batch_size, vec_len, R, T, criterion, optimizer,print_log = 100)\n",
    "    PATH = os.getcwd() + '/Model/R_{}'.format(R)\n",
    "    torch.save(HebbFF_CFD.state_dict(), PATH)"
   ]
  },
  {
   "cell_type": "code",
   "execution_count": null,
   "id": "f3a15df6",
   "metadata": {},
   "outputs": [],
   "source": []
  },
  {
   "cell_type": "code",
   "execution_count": null,
   "id": "d6df0b83",
   "metadata": {},
   "outputs": [],
   "source": []
  }
 ],
 "metadata": {
  "kernelspec": {
   "display_name": "Python 3 (ipykernel)",
   "language": "python",
   "name": "python3"
  },
  "language_info": {
   "codemirror_mode": {
    "name": "ipython",
    "version": 3
   },
   "file_extension": ".py",
   "mimetype": "text/x-python",
   "name": "python",
   "nbconvert_exporter": "python",
   "pygments_lexer": "ipython3",
   "version": "3.8.12"
  }
 },
 "nbformat": 4,
 "nbformat_minor": 5
}
