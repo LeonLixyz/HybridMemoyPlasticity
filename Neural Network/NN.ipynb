{
 "cells": [
  {
   "cell_type": "code",
   "execution_count": 4,
   "id": "f5def326",
   "metadata": {},
   "outputs": [],
   "source": [
    "import NN_Functions as nn_func\n",
    "import numpy as np\n",
    "import matplotlib.pyplot as plt\n",
    "import torch\n",
    "from torchvision import datasets\n",
    "from torchvision.transforms import ToTensor\n",
    "from torch.utils.data import TensorDataset, DataLoader\n",
    "import sys\n",
    "import copy"
   ]
  },
  {
   "cell_type": "code",
   "execution_count": 5,
   "id": "5fb49b6d",
   "metadata": {},
   "outputs": [],
   "source": [
    "training_data = datasets.MNIST(\n",
    "    root=\"data\",\n",
    "    train=True,\n",
    "    download=True,\n",
    "    transform=ToTensor()\n",
    ")\n",
    "\n",
    "testing_data = datasets.MNIST(\n",
    "    root=\"data\",\n",
    "    train=False,\n",
    "    download=True,\n",
    "    transform=ToTensor()\n",
    ")"
   ]
  },
  {
   "cell_type": "code",
   "execution_count": 6,
   "id": "46072ddc",
   "metadata": {},
   "outputs": [],
   "source": [
    "batch_size = 60\n",
    "testing_batch_size = 10\n",
    "train_dataloader = DataLoader(training_data, batch_size=batch_size, shuffle=True)\n",
    "testing_dataloader = DataLoader(testing_data, batch_size = testing_batch_size, shuffle=True)"
   ]
  },
  {
   "cell_type": "code",
   "execution_count": 11,
   "id": "083ca9b4",
   "metadata": {},
   "outputs": [],
   "source": [
    "class ANN:\n",
    "\n",
    "    def __init__(self, layers, Loss, hid_nonl, out_act,ini_w,ini_b,epsilon,lr):\n",
    "        self.num_layers = len(layers)\n",
    "        self.iw = ini_w\n",
    "        self.ib = ini_b\n",
    "        self.Loss = Loss\n",
    "        self.hid_nonl = hid_nonl\n",
    "        self.out_act = out_act\n",
    "        self.biases = [np.random.uniform(-self.ib,self.ib, (y, 1)) for y in layers[1:]]\n",
    "        self.weights = [np.random.uniform(-self.iw,self.iw, (y, x)) for x, y in zip(layers[:-1], layers[1:])]\n",
    "        self.loss = 0\n",
    "        self.epsilon = epsilon\n",
    "        self.lr = lr\n",
    "        self.delta_biases = []\n",
    "        self.delta_weights = []\n",
    "        self.sum_biases = []\n",
    "        self.sum_weights = []\n",
    "        sum_b = [np.sum(b) for b in self.biases]\n",
    "        sum_w = [np.sum(w) for w in self.weights]\n",
    "        self.sum_biases.append(tuple(sum_b))\n",
    "        self.sum_weights.append(tuple(sum_w))\n",
    "\n",
    "\n",
    "    def printf(self):\n",
    "        print('self.biases', *self.biases)\n",
    "        print('self.weights', *self.weights)\n",
    "\n",
    "    def forward(self, x):\n",
    "        print(x.shape)\n",
    "        for b, w in zip(self.biases[:-1], self.weights[:-1]):\n",
    "            x = self.hid_nonl.activation(w@x + b)\n",
    "        x = self.out_act.activation(self.weights[-1] @ x + self.biases[-1])\n",
    "\n",
    "        return x\n",
    "    \n",
    "    def update(self, batch_input, batch_label, lr):\n",
    "        \n",
    "        \n",
    "        grad_sum_b = [np.zeros(b.shape) for b in self.biases]\n",
    "        grad_sum_w = [np.zeros(w.shape) for w in self.weights]\n",
    "        input = batch_input.numpy().reshape((batch_size, 1, 784, 1))\n",
    "        label = np.zeros((batch_size, 1, 10, 1))\n",
    "        label[np.arange(batch_size),:,batch_label,:] = 1  \n",
    "        \n",
    "        \n",
    "        delta_b, delta_w, batch_loss = self.backprop(input, label)\n",
    "\n",
    "        grad_sum_b = [b_sum + dlt_b[:,0,:,:].sum(axis = 0) for b_sum, dlt_b in zip(grad_sum_b, delta_b)]\n",
    "        grad_sum_w = [w_sum + dlt_w[:,0,:,:].sum(axis = 0) for w_sum, dlt_w in zip(grad_sum_w, delta_w)]\n",
    "        \n",
    "        '''\n",
    "        check graident approximation with backprop\n",
    "        '''\n",
    "        # print('grad_sum_b', *grad_sum_b, sep = '\\n')\n",
    "        # print('grad_sum_w', *grad_sum_w, sep = '\\n')\n",
    "\n",
    "        self.loss += batch_loss\n",
    "        self.weights = [w - (lr/batch_size) * nw for w, nw in zip(self.weights, grad_sum_w)]\n",
    "        self.biases = [b - (lr/batch_size) * nb for b, nb in zip(self.biases, grad_sum_b)]\n",
    "        \n",
    "        sum_b = [np.sum(b) for b in self.biases]\n",
    "        sum_w = [np.sum(w) for w in self.weights]\n",
    "        self.sum_biases.append(tuple(sum_b))\n",
    "        self.sum_weights.append(tuple(sum_w))\n",
    "\n",
    "\n",
    "        \n",
    "        temp_b = [np.sum(b) for b in grad_sum_b]\n",
    "        temp_w = [np.sum(w) for w in grad_sum_w]\n",
    "        self.delta_biases.append(tuple(temp_b))\n",
    "        self.delta_weights.append(tuple(temp_w))\n",
    "        \n",
    "    def gradient_approximation(self, batch_input, batch_label):\n",
    "        nabla_b = [ np.zeros(b.shape) for b in self.biases]\n",
    "        nabla_w = [ np.zeros(w.shape) for w in self.weights]\n",
    "        aprox1_b = [ np.zeros(b.shape) for b in self.biases]\n",
    "        aprox2_b = [ np.zeros(b.shape) for b in self.biases]\n",
    "        aprox1_w = [ np.zeros(w.shape) for w in self.weights]\n",
    "        aprox2_w = [ np.zeros(w.shape) for w in self.weights]\n",
    "\n",
    "        x = batch_input.numpy().reshape((batch_size, 1, 784, 1))\n",
    "        y = np.zeros((batch_size, 1, 10, 1))\n",
    "        y[np.arange(batch_size),:,batch_label,:] = 1  \n",
    "        \n",
    "        \n",
    "        # b[-1]: \n",
    "        for i in range(len(self.biases)):\n",
    "            for j in range(len(self.biases[i])):\n",
    "                x1 = x\n",
    "                x2 = x\n",
    "                aprox1_b = copy.deepcopy(self.biases)\n",
    "                aprox2_b = copy.deepcopy(self.biases)\n",
    "                aprox1_b[i][j] += self.epsilon\n",
    "                aprox2_b[i][j] -= self.epsilon\n",
    "\n",
    "\n",
    "                for b, w in zip(aprox1_b[:-1], self.weights[:-1]):\n",
    "                    x1 = self.hid_nonl.activation(w @ x1 + b)\n",
    "                    \n",
    "                x1 = self.out_act.activation(self.weights[-1] @ x1 + aprox1_b[-1]) \n",
    "\n",
    "                for b, w in zip(aprox2_b[:-1], self.weights[:-1]):\n",
    "                    x2 = self.hid_nonl.activation(w @ x2 + b)\n",
    "        \n",
    "                x2 = self.out_act.activation(self.weights[-1] @ x2 + aprox2_b[-1]) \n",
    "\n",
    "                nabla_b[i][j] = np.sum((self.Loss.Loss(x1, y) - self.Loss.Loss(x2, y)) / (2*self.epsilon)) \n",
    "                \n",
    "                \n",
    "        for i in range(len(self.weights)):\n",
    "            for j in range(len(self.weights[i])):\n",
    "                for k in range (len(self.weights[i][j])):\n",
    "                    x1 = x\n",
    "                    x2 = x\n",
    "                    aprox1_w = copy.deepcopy(self.weights)\n",
    "                    aprox2_w = copy.deepcopy(self.weights)\n",
    "                    aprox1_w[i][j][k] = (1+self.epsilon) * aprox1_w[i][j][k]\n",
    "                    aprox2_w[i][j][k] = (1-self.epsilon) * aprox2_w[i][j][k]\n",
    "\n",
    "                    for b, w in zip(self.biases[:-1], aprox1_w[:-1]):\n",
    "                        x1 = self.hid_nonl.activation(w @ x1 + b)\n",
    "                    x1 = self.out_act.activation(aprox1_w[-1] @ x1 + self.biases[-1]) \n",
    "\n",
    "                    for b, w in zip(self.biases[:-1], aprox2_w[:-1]):\n",
    "                        x2 = self.hid_nonl.activation(w @ x2 + b)\n",
    "                    x2 = self.out_act.activation(aprox2_w[-1] @ x2 + self.biases[-1]) \n",
    "\n",
    "                    nabla_w[i][j][k] = np.sum((self.Loss.Loss(x1, y) - self.Loss.Loss(x2, y)) / (2*self.epsilon)) \n",
    "               \n",
    "        return (nabla_b, nabla_w)\n",
    "        \n",
    "    def backprop(self, x, y):\n",
    "        nabla_b = [np.zeros((batch_size,1,) + b.shape) for b in self.biases]\n",
    "        nabla_w = [np.zeros((batch_size,1,) + w.shape) for w in self.weights]\n",
    "        \n",
    "        #print(x)\n",
    "        activation = x\n",
    "        activations = [x] \n",
    "        z_vector = [] # weighted input\n",
    "        loss = 0\n",
    "        \n",
    "        for b, w in zip(self.biases[:-1], self.weights[:-1]):\n",
    "            z = w @ activation + b\n",
    "            z_vector.append(z)\n",
    "            activation = self.hid_nonl.activation(z)\n",
    "            activations.append(activation)\n",
    "           \n",
    "        z = self.weights[-1] @ activation + self.biases[-1]  \n",
    "        z_vector.append(z)\n",
    "        activation = self.out_act.activation(z)\n",
    "        activations.append(activation)\n",
    "        \n",
    "        loss = self.Loss.Loss(activation, y)\n",
    "        \n",
    "        if self.out_act.fast() + self.Loss.fast() == 2: \n",
    "            delta = (nn_func.softmax_XE_grad(activations[-1] , y))\n",
    "            \n",
    "        else: \n",
    "            delta = np.transpose(self.out_act.gradient(z_vector[-1]),(0, 1, 3, 2)) @ self.Loss.gradient(activations[-1], y)\n",
    "\n",
    "            \n",
    "        nabla_b[-1] = delta\n",
    "        nabla_w[-1] = delta @ np.transpose(activations[-2],(0, 1, 3, 2))\n",
    "\n",
    "        for l in range(2, self.num_layers):\n",
    "            delta = np.transpose(self.hid_nonl.gradient(z_vector[-l]),(0, 1, 3, 2)) @ np.transpose(self.weights[-l+1]) @ delta\n",
    "            nabla_b[-l] = delta\n",
    "            nabla_w[-l] = delta @ np.transpose(activations[-l-1],(0, 1, 3, 2))\n",
    "\n",
    "        return (nabla_b, nabla_w, loss)"
   ]
  },
  {
   "cell_type": "code",
   "execution_count": 12,
   "id": "5e71d179",
   "metadata": {},
   "outputs": [],
   "source": [
    "net_structure = [784,50,50,10]"
   ]
  },
  {
   "cell_type": "code",
   "execution_count": 13,
   "id": "41b714bb",
   "metadata": {},
   "outputs": [],
   "source": [
    "my_net = ANN(net_structure, Loss = nn_func.XE(), hid_nonl = nn_func.leaky_relu(0.1), out_act = nn_func.Softmax(),ini_w = 1,ini_b = 1,epsilon = 1e-10,lr = 0.05)"
   ]
  },
  {
   "cell_type": "code",
   "execution_count": 14,
   "id": "5954f10a",
   "metadata": {},
   "outputs": [
    {
     "name": "stdout",
     "output_type": "stream",
     "text": [
      "delta (60, 1, 10, 1)\n",
      "transpose (60, 1, 1, 50)\n",
      "(60, 1, 784, 1)\n",
      "delta (60, 1, 10, 1)\n",
      "transpose (60, 1, 1, 50)\n",
      "(60, 1, 784, 1)\n",
      "delta (60, 1, 10, 1)\n",
      "transpose (60, 1, 1, 50)\n",
      "(60, 1, 784, 1)\n",
      "delta (60, 1, 10, 1)\n",
      "transpose (60, 1, 1, 50)\n",
      "(60, 1, 784, 1)\n",
      "delta (60, 1, 10, 1)\n",
      "transpose (60, 1, 1, 50)\n",
      "(60, 1, 784, 1)\n",
      "delta (60, 1, 10, 1)\n",
      "transpose (60, 1, 1, 50)\n",
      "(60, 1, 784, 1)\n",
      "delta (60, 1, 10, 1)\n",
      "transpose (60, 1, 1, 50)\n",
      "(60, 1, 784, 1)\n",
      "delta (60, 1, 10, 1)\n",
      "transpose (60, 1, 1, 50)\n",
      "(60, 1, 784, 1)\n",
      "delta (60, 1, 10, 1)\n",
      "transpose (60, 1, 1, 50)\n",
      "(60, 1, 784, 1)\n",
      "delta (60, 1, 10, 1)\n",
      "transpose (60, 1, 1, 50)\n",
      "(60, 1, 784, 1)\n",
      "delta (60, 1, 10, 1)\n",
      "transpose (60, 1, 1, 50)\n",
      "(60, 1, 784, 1)\n",
      "delta (60, 1, 10, 1)\n",
      "transpose (60, 1, 1, 50)\n",
      "(60, 1, 784, 1)\n",
      "delta (60, 1, 10, 1)\n",
      "transpose (60, 1, 1, 50)\n",
      "(60, 1, 784, 1)\n",
      "delta (60, 1, 10, 1)\n",
      "transpose (60, 1, 1, 50)\n",
      "(60, 1, 784, 1)\n",
      "delta (60, 1, 10, 1)\n",
      "transpose (60, 1, 1, 50)\n",
      "(60, 1, 784, 1)\n",
      "delta (60, 1, 10, 1)\n",
      "transpose (60, 1, 1, 50)\n",
      "(60, 1, 784, 1)\n",
      "delta (60, 1, 10, 1)\n",
      "transpose (60, 1, 1, 50)\n",
      "(60, 1, 784, 1)\n",
      "delta (60, 1, 10, 1)\n",
      "transpose (60, 1, 1, 50)\n",
      "(60, 1, 784, 1)\n",
      "delta (60, 1, 10, 1)\n",
      "transpose (60, 1, 1, 50)\n",
      "(60, 1, 784, 1)\n",
      "delta (60, 1, 10, 1)\n",
      "transpose (60, 1, 1, 50)\n",
      "(60, 1, 784, 1)\n",
      "delta (60, 1, 10, 1)\n",
      "transpose (60, 1, 1, 50)\n",
      "(60, 1, 784, 1)\n",
      "delta (60, 1, 10, 1)\n",
      "transpose (60, 1, 1, 50)\n",
      "(60, 1, 784, 1)\n",
      "delta (60, 1, 10, 1)\n",
      "transpose (60, 1, 1, 50)\n",
      "(60, 1, 784, 1)\n",
      "delta (60, 1, 10, 1)\n",
      "transpose (60, 1, 1, 50)\n",
      "(60, 1, 784, 1)\n",
      "delta (60, 1, 10, 1)\n",
      "transpose (60, 1, 1, 50)\n",
      "(60, 1, 784, 1)\n",
      "delta (60, 1, 10, 1)\n",
      "transpose (60, 1, 1, 50)\n",
      "(60, 1, 784, 1)\n",
      "delta (60, 1, 10, 1)\n",
      "transpose (60, 1, 1, 50)\n",
      "(60, 1, 784, 1)\n",
      "delta (60, 1, 10, 1)\n",
      "transpose (60, 1, 1, 50)\n",
      "(60, 1, 784, 1)\n",
      "delta (60, 1, 10, 1)\n",
      "transpose (60, 1, 1, 50)\n",
      "(60, 1, 784, 1)\n",
      "delta (60, 1, 10, 1)\n",
      "transpose (60, 1, 1, 50)\n",
      "(60, 1, 784, 1)\n",
      "delta (60, 1, 10, 1)\n",
      "transpose (60, 1, 1, 50)\n",
      "(60, 1, 784, 1)\n",
      "delta (60, 1, 10, 1)\n",
      "transpose (60, 1, 1, 50)\n",
      "(60, 1, 784, 1)\n",
      "delta (60, 1, 10, 1)\n",
      "transpose (60, 1, 1, 50)\n",
      "(60, 1, 784, 1)\n",
      "delta (60, 1, 10, 1)\n",
      "transpose (60, 1, 1, 50)\n",
      "(60, 1, 784, 1)\n",
      "delta (60, 1, 10, 1)\n",
      "transpose (60, 1, 1, 50)\n",
      "(60, 1, 784, 1)\n",
      "delta (60, 1, 10, 1)\n",
      "transpose (60, 1, 1, 50)\n",
      "(60, 1, 784, 1)\n",
      "delta (60, 1, 10, 1)\n",
      "transpose (60, 1, 1, 50)\n",
      "(60, 1, 784, 1)\n",
      "delta (60, 1, 10, 1)\n",
      "transpose (60, 1, 1, 50)\n",
      "(60, 1, 784, 1)\n",
      "delta (60, 1, 10, 1)\n",
      "transpose (60, 1, 1, 50)\n",
      "(60, 1, 784, 1)\n",
      "delta (60, 1, 10, 1)\n",
      "transpose (60, 1, 1, 50)\n",
      "(60, 1, 784, 1)\n",
      "delta (60, 1, 10, 1)\n",
      "transpose (60, 1, 1, 50)\n",
      "(60, 1, 784, 1)\n",
      "delta (60, 1, 10, 1)\n",
      "transpose (60, 1, 1, 50)\n",
      "(60, 1, 784, 1)\n",
      "delta (60, 1, 10, 1)\n",
      "transpose (60, 1, 1, 50)\n",
      "(60, 1, 784, 1)\n",
      "delta (60, 1, 10, 1)\n",
      "transpose (60, 1, 1, 50)\n",
      "(60, 1, 784, 1)\n",
      "delta (60, 1, 10, 1)\n",
      "transpose (60, 1, 1, 50)\n",
      "(60, 1, 784, 1)\n",
      "delta (60, 1, 10, 1)\n",
      "transpose (60, 1, 1, 50)\n",
      "(60, 1, 784, 1)\n",
      "delta (60, 1, 10, 1)\n",
      "transpose (60, 1, 1, 50)\n",
      "(60, 1, 784, 1)\n",
      "delta (60, 1, 10, 1)\n",
      "transpose (60, 1, 1, 50)\n",
      "(60, 1, 784, 1)\n",
      "delta (60, 1, 10, 1)\n",
      "transpose (60, 1, 1, 50)\n",
      "(60, 1, 784, 1)\n",
      "delta (60, 1, 10, 1)\n",
      "transpose (60, 1, 1, 50)\n",
      "(60, 1, 784, 1)\n",
      "delta (60, 1, 10, 1)\n",
      "transpose (60, 1, 1, 50)\n",
      "(60, 1, 784, 1)\n",
      "delta (60, 1, 10, 1)\n",
      "transpose (60, 1, 1, 50)\n",
      "(60, 1, 784, 1)\n",
      "delta (60, 1, 10, 1)\n",
      "transpose (60, 1, 1, 50)\n",
      "(60, 1, 784, 1)\n",
      "delta (60, 1, 10, 1)\n",
      "transpose (60, 1, 1, 50)\n",
      "(60, 1, 784, 1)\n",
      "delta (60, 1, 10, 1)\n",
      "transpose (60, 1, 1, 50)\n",
      "(60, 1, 784, 1)\n",
      "delta (60, 1, 10, 1)\n",
      "transpose (60, 1, 1, 50)\n",
      "(60, 1, 784, 1)\n",
      "delta (60, 1, 10, 1)\n",
      "transpose (60, 1, 1, 50)\n",
      "(60, 1, 784, 1)\n",
      "delta (60, 1, 10, 1)\n",
      "transpose (60, 1, 1, 50)\n",
      "(60, 1, 784, 1)\n",
      "delta (60, 1, 10, 1)\n",
      "transpose (60, 1, 1, 50)\n",
      "(60, 1, 784, 1)\n",
      "delta (60, 1, 10, 1)\n",
      "transpose (60, 1, 1, 50)\n",
      "(60, 1, 784, 1)\n",
      "delta (60, 1, 10, 1)\n",
      "transpose (60, 1, 1, 50)\n",
      "(60, 1, 784, 1)\n",
      "delta (60, 1, 10, 1)\n",
      "transpose (60, 1, 1, 50)\n",
      "(60, 1, 784, 1)\n",
      "delta (60, 1, 10, 1)\n",
      "transpose (60, 1, 1, 50)\n",
      "(60, 1, 784, 1)\n",
      "delta (60, 1, 10, 1)\n",
      "transpose (60, 1, 1, 50)\n",
      "(60, 1, 784, 1)\n",
      "delta (60, 1, 10, 1)\n",
      "transpose (60, 1, 1, 50)\n",
      "(60, 1, 784, 1)\n",
      "delta (60, 1, 10, 1)\n",
      "transpose (60, 1, 1, 50)\n",
      "(60, 1, 784, 1)\n",
      "delta (60, 1, 10, 1)\n",
      "transpose (60, 1, 1, 50)\n",
      "(60, 1, 784, 1)\n",
      "delta (60, 1, 10, 1)\n",
      "transpose (60, 1, 1, 50)\n",
      "(60, 1, 784, 1)\n",
      "delta (60, 1, 10, 1)\n",
      "transpose (60, 1, 1, 50)\n",
      "(60, 1, 784, 1)\n",
      "delta (60, 1, 10, 1)\n",
      "transpose (60, 1, 1, 50)\n",
      "(60, 1, 784, 1)\n",
      "delta (60, 1, 10, 1)\n",
      "transpose (60, 1, 1, 50)\n",
      "(60, 1, 784, 1)\n",
      "delta (60, 1, 10, 1)\n",
      "transpose (60, 1, 1, 50)\n",
      "(60, 1, 784, 1)\n",
      "delta (60, 1, 10, 1)\n",
      "transpose (60, 1, 1, 50)\n",
      "(60, 1, 784, 1)\n",
      "delta (60, 1, 10, 1)\n",
      "transpose (60, 1, 1, 50)\n",
      "(60, 1, 784, 1)\n",
      "delta (60, 1, 10, 1)\n",
      "transpose (60, 1, 1, 50)\n",
      "(60, 1, 784, 1)\n",
      "delta (60, 1, 10, 1)\n",
      "transpose (60, 1, 1, 50)\n",
      "(60, 1, 784, 1)\n",
      "delta (60, 1, 10, 1)\n",
      "transpose (60, 1, 1, 50)\n",
      "(60, 1, 784, 1)\n",
      "delta (60, 1, 10, 1)\n",
      "transpose (60, 1, 1, 50)\n",
      "(60, 1, 784, 1)\n",
      "delta (60, 1, 10, 1)\n",
      "transpose (60, 1, 1, 50)\n",
      "(60, 1, 784, 1)\n",
      "delta (60, 1, 10, 1)\n",
      "transpose (60, 1, 1, 50)\n",
      "(60, 1, 784, 1)\n",
      "delta (60, 1, 10, 1)\n",
      "transpose (60, 1, 1, 50)\n",
      "(60, 1, 784, 1)\n",
      "delta (60, 1, 10, 1)\n",
      "transpose (60, 1, 1, 50)\n",
      "(60, 1, 784, 1)\n",
      "delta (60, 1, 10, 1)\n",
      "transpose (60, 1, 1, 50)\n",
      "(60, 1, 784, 1)\n",
      "delta (60, 1, 10, 1)\n",
      "transpose (60, 1, 1, 50)\n",
      "(60, 1, 784, 1)\n",
      "delta (60, 1, 10, 1)\n",
      "transpose (60, 1, 1, 50)\n",
      "(60, 1, 784, 1)\n",
      "delta (60, 1, 10, 1)\n",
      "transpose (60, 1, 1, 50)\n",
      "(60, 1, 784, 1)\n",
      "delta (60, 1, 10, 1)\n",
      "transpose (60, 1, 1, 50)\n",
      "(60, 1, 784, 1)\n",
      "delta (60, 1, 10, 1)\n",
      "transpose (60, 1, 1, 50)\n",
      "(60, 1, 784, 1)\n",
      "delta (60, 1, 10, 1)\n",
      "transpose (60, 1, 1, 50)\n",
      "(60, 1, 784, 1)\n",
      "delta (60, 1, 10, 1)\n",
      "transpose (60, 1, 1, 50)\n",
      "(60, 1, 784, 1)\n",
      "delta (60, 1, 10, 1)\n",
      "transpose (60, 1, 1, 50)\n",
      "(60, 1, 784, 1)\n",
      "delta (60, 1, 10, 1)\n",
      "transpose (60, 1, 1, 50)\n",
      "(60, 1, 784, 1)\n",
      "delta (60, 1, 10, 1)\n",
      "transpose (60, 1, 1, 50)\n",
      "(60, 1, 784, 1)\n",
      "delta (60, 1, 10, 1)\n",
      "transpose (60, 1, 1, 50)\n",
      "(60, 1, 784, 1)\n",
      "delta (60, 1, 10, 1)\n",
      "transpose (60, 1, 1, 50)\n",
      "(60, 1, 784, 1)\n",
      "delta (60, 1, 10, 1)\n",
      "transpose (60, 1, 1, 50)\n",
      "(60, 1, 784, 1)\n",
      "delta (60, 1, 10, 1)\n",
      "transpose (60, 1, 1, 50)\n",
      "(60, 1, 784, 1)\n",
      "delta (60, 1, 10, 1)\n",
      "transpose (60, 1, 1, 50)\n",
      "(60, 1, 784, 1)\n",
      "delta (60, 1, 10, 1)\n",
      "transpose (60, 1, 1, 50)\n",
      "(60, 1, 784, 1)\n",
      "delta (60, 1, 10, 1)\n",
      "transpose (60, 1, 1, 50)\n",
      "(60, 1, 784, 1)\n",
      "delta (60, 1, 10, 1)\n",
      "transpose (60, 1, 1, 50)\n",
      "(60, 1, 784, 1)\n",
      "delta (60, 1, 10, 1)\n",
      "transpose (60, 1, 1, 50)\n",
      "(60, 1, 784, 1)\n",
      "delta (60, 1, 10, 1)\n",
      "transpose (60, 1, 1, 50)\n",
      "(60, 1, 784, 1)\n",
      "delta (60, 1, 10, 1)\n",
      "transpose (60, 1, 1, 50)\n",
      "(60, 1, 784, 1)\n",
      "delta (60, 1, 10, 1)\n",
      "transpose (60, 1, 1, 50)\n",
      "(60, 1, 784, 1)\n",
      "delta (60, 1, 10, 1)\n",
      "transpose (60, 1, 1, 50)\n",
      "(60, 1, 784, 1)\n",
      "delta (60, 1, 10, 1)\n",
      "transpose (60, 1, 1, 50)\n",
      "(60, 1, 784, 1)\n",
      "delta (60, 1, 10, 1)\n",
      "transpose (60, 1, 1, 50)\n",
      "(60, 1, 784, 1)\n",
      "delta (60, 1, 10, 1)\n",
      "transpose (60, 1, 1, 50)\n",
      "(60, 1, 784, 1)\n",
      "delta (60, 1, 10, 1)\n",
      "transpose (60, 1, 1, 50)\n",
      "(60, 1, 784, 1)\n",
      "delta (60, 1, 10, 1)\n",
      "transpose (60, 1, 1, 50)\n",
      "(60, 1, 784, 1)\n",
      "delta (60, 1, 10, 1)\n",
      "transpose (60, 1, 1, 50)\n",
      "(60, 1, 784, 1)\n",
      "delta (60, 1, 10, 1)\n",
      "transpose (60, 1, 1, 50)\n",
      "(60, 1, 784, 1)\n",
      "delta (60, 1, 10, 1)\n",
      "transpose (60, 1, 1, 50)\n",
      "(60, 1, 784, 1)\n",
      "delta (60, 1, 10, 1)\n",
      "transpose (60, 1, 1, 50)\n",
      "(60, 1, 784, 1)\n",
      "delta (60, 1, 10, 1)\n",
      "transpose (60, 1, 1, 50)\n",
      "(60, 1, 784, 1)\n",
      "delta (60, 1, 10, 1)\n",
      "transpose (60, 1, 1, 50)\n",
      "(60, 1, 784, 1)\n",
      "delta (60, 1, 10, 1)\n",
      "transpose (60, 1, 1, 50)\n",
      "(60, 1, 784, 1)\n",
      "delta (60, 1, 10, 1)\n",
      "transpose (60, 1, 1, 50)\n",
      "(60, 1, 784, 1)\n",
      "delta (60, 1, 10, 1)\n",
      "transpose (60, 1, 1, 50)\n",
      "(60, 1, 784, 1)\n",
      "delta (60, 1, 10, 1)\n",
      "transpose (60, 1, 1, 50)\n",
      "(60, 1, 784, 1)\n",
      "delta (60, 1, 10, 1)\n",
      "transpose (60, 1, 1, 50)\n",
      "(60, 1, 784, 1)\n",
      "delta (60, 1, 10, 1)\n",
      "transpose (60, 1, 1, 50)\n",
      "(60, 1, 784, 1)\n",
      "delta (60, 1, 10, 1)\n",
      "transpose (60, 1, 1, 50)\n",
      "(60, 1, 784, 1)\n",
      "delta (60, 1, 10, 1)\n",
      "transpose (60, 1, 1, 50)\n",
      "(60, 1, 784, 1)\n",
      "delta (60, 1, 10, 1)\n",
      "transpose (60, 1, 1, 50)\n",
      "(60, 1, 784, 1)\n",
      "delta (60, 1, 10, 1)\n",
      "transpose (60, 1, 1, 50)\n",
      "(60, 1, 784, 1)\n",
      "delta (60, 1, 10, 1)\n",
      "transpose (60, 1, 1, 50)\n",
      "(60, 1, 784, 1)\n",
      "delta (60, 1, 10, 1)\n",
      "transpose (60, 1, 1, 50)\n",
      "(60, 1, 784, 1)\n",
      "delta (60, 1, 10, 1)\n",
      "transpose (60, 1, 1, 50)\n",
      "(60, 1, 784, 1)\n",
      "delta (60, 1, 10, 1)\n",
      "transpose (60, 1, 1, 50)\n",
      "(60, 1, 784, 1)\n",
      "delta (60, 1, 10, 1)\n",
      "transpose (60, 1, 1, 50)\n",
      "(60, 1, 784, 1)\n",
      "delta (60, 1, 10, 1)\n",
      "transpose (60, 1, 1, 50)\n",
      "(60, 1, 784, 1)\n",
      "delta (60, 1, 10, 1)\n",
      "transpose (60, 1, 1, 50)\n",
      "(60, 1, 784, 1)\n",
      "delta (60, 1, 10, 1)\n",
      "transpose (60, 1, 1, 50)\n",
      "(60, 1, 784, 1)\n",
      "delta (60, 1, 10, 1)\n",
      "transpose (60, 1, 1, 50)\n",
      "(60, 1, 784, 1)\n",
      "delta (60, 1, 10, 1)\n",
      "transpose (60, 1, 1, 50)\n",
      "(60, 1, 784, 1)\n",
      "delta (60, 1, 10, 1)\n",
      "transpose (60, 1, 1, 50)\n",
      "(60, 1, 784, 1)\n",
      "delta (60, 1, 10, 1)\n",
      "transpose (60, 1, 1, 50)\n"
     ]
    },
    {
     "name": "stdout",
     "output_type": "stream",
     "text": [
      "(60, 1, 784, 1)\n",
      "delta (60, 1, 10, 1)\n",
      "transpose (60, 1, 1, 50)\n",
      "(60, 1, 784, 1)\n",
      "delta (60, 1, 10, 1)\n",
      "transpose (60, 1, 1, 50)\n",
      "(60, 1, 784, 1)\n",
      "delta (60, 1, 10, 1)\n",
      "transpose (60, 1, 1, 50)\n",
      "(60, 1, 784, 1)\n",
      "delta (60, 1, 10, 1)\n",
      "transpose (60, 1, 1, 50)\n",
      "(60, 1, 784, 1)\n",
      "delta (60, 1, 10, 1)\n",
      "transpose (60, 1, 1, 50)\n",
      "(60, 1, 784, 1)\n",
      "delta (60, 1, 10, 1)\n",
      "transpose (60, 1, 1, 50)\n",
      "(60, 1, 784, 1)\n",
      "delta (60, 1, 10, 1)\n",
      "transpose (60, 1, 1, 50)\n",
      "(60, 1, 784, 1)\n",
      "delta (60, 1, 10, 1)\n",
      "transpose (60, 1, 1, 50)\n",
      "(60, 1, 784, 1)\n",
      "delta (60, 1, 10, 1)\n",
      "transpose (60, 1, 1, 50)\n",
      "(60, 1, 784, 1)\n",
      "delta (60, 1, 10, 1)\n",
      "transpose (60, 1, 1, 50)\n",
      "(60, 1, 784, 1)\n",
      "delta (60, 1, 10, 1)\n",
      "transpose (60, 1, 1, 50)\n",
      "(60, 1, 784, 1)\n",
      "delta (60, 1, 10, 1)\n",
      "transpose (60, 1, 1, 50)\n",
      "(60, 1, 784, 1)\n",
      "delta (60, 1, 10, 1)\n",
      "transpose (60, 1, 1, 50)\n",
      "(60, 1, 784, 1)\n",
      "delta (60, 1, 10, 1)\n",
      "transpose (60, 1, 1, 50)\n",
      "(60, 1, 784, 1)\n",
      "delta (60, 1, 10, 1)\n",
      "transpose (60, 1, 1, 50)\n",
      "(60, 1, 784, 1)\n",
      "delta (60, 1, 10, 1)\n",
      "transpose (60, 1, 1, 50)\n",
      "(60, 1, 784, 1)\n",
      "delta (60, 1, 10, 1)\n",
      "transpose (60, 1, 1, 50)\n",
      "(60, 1, 784, 1)\n",
      "delta (60, 1, 10, 1)\n",
      "transpose (60, 1, 1, 50)\n",
      "(60, 1, 784, 1)\n",
      "delta (60, 1, 10, 1)\n",
      "transpose (60, 1, 1, 50)\n",
      "(60, 1, 784, 1)\n",
      "delta (60, 1, 10, 1)\n",
      "transpose (60, 1, 1, 50)\n",
      "(60, 1, 784, 1)\n",
      "delta (60, 1, 10, 1)\n",
      "transpose (60, 1, 1, 50)\n"
     ]
    },
    {
     "ename": "KeyboardInterrupt",
     "evalue": "",
     "output_type": "error",
     "traceback": [
      "\u001b[0;31m---------------------------------------------------------------------------\u001b[0m",
      "\u001b[0;31mKeyboardInterrupt\u001b[0m                         Traceback (most recent call last)",
      "\u001b[0;32m<timed exec>\u001b[0m in \u001b[0;36m<module>\u001b[0;34m\u001b[0m\n",
      "\u001b[0;32m/var/folders/mw/9bfg1rf52g57tm0mgxqjy4gm0000gn/T/ipykernel_2789/1470675876.py\u001b[0m in \u001b[0;36mupdate\u001b[0;34m(self, batch_input, batch_label, lr)\u001b[0m\n\u001b[1;32m     45\u001b[0m \u001b[0;34m\u001b[0m\u001b[0m\n\u001b[1;32m     46\u001b[0m \u001b[0;34m\u001b[0m\u001b[0m\n\u001b[0;32m---> 47\u001b[0;31m         \u001b[0mdelta_b\u001b[0m\u001b[0;34m,\u001b[0m \u001b[0mdelta_w\u001b[0m\u001b[0;34m,\u001b[0m \u001b[0mbatch_loss\u001b[0m \u001b[0;34m=\u001b[0m \u001b[0mself\u001b[0m\u001b[0;34m.\u001b[0m\u001b[0mbackprop\u001b[0m\u001b[0;34m(\u001b[0m\u001b[0minput\u001b[0m\u001b[0;34m,\u001b[0m \u001b[0mlabel\u001b[0m\u001b[0;34m)\u001b[0m\u001b[0;34m\u001b[0m\u001b[0;34m\u001b[0m\u001b[0m\n\u001b[0m\u001b[1;32m     48\u001b[0m \u001b[0;34m\u001b[0m\u001b[0m\n\u001b[1;32m     49\u001b[0m         \u001b[0mgrad_sum_b\u001b[0m \u001b[0;34m=\u001b[0m \u001b[0;34m[\u001b[0m\u001b[0mb_sum\u001b[0m \u001b[0;34m+\u001b[0m \u001b[0mdlt_b\u001b[0m\u001b[0;34m[\u001b[0m\u001b[0;34m:\u001b[0m\u001b[0;34m,\u001b[0m\u001b[0;36m0\u001b[0m\u001b[0;34m,\u001b[0m\u001b[0;34m:\u001b[0m\u001b[0;34m,\u001b[0m\u001b[0;34m:\u001b[0m\u001b[0;34m]\u001b[0m\u001b[0;34m.\u001b[0m\u001b[0msum\u001b[0m\u001b[0;34m(\u001b[0m\u001b[0maxis\u001b[0m \u001b[0;34m=\u001b[0m \u001b[0;36m0\u001b[0m\u001b[0;34m)\u001b[0m \u001b[0;32mfor\u001b[0m \u001b[0mb_sum\u001b[0m\u001b[0;34m,\u001b[0m \u001b[0mdlt_b\u001b[0m \u001b[0;32min\u001b[0m \u001b[0mzip\u001b[0m\u001b[0;34m(\u001b[0m\u001b[0mgrad_sum_b\u001b[0m\u001b[0;34m,\u001b[0m \u001b[0mdelta_b\u001b[0m\u001b[0;34m)\u001b[0m\u001b[0;34m]\u001b[0m\u001b[0;34m\u001b[0m\u001b[0;34m\u001b[0m\u001b[0m\n",
      "\u001b[0;32m/var/folders/mw/9bfg1rf52g57tm0mgxqjy4gm0000gn/T/ipykernel_2789/1470675876.py\u001b[0m in \u001b[0;36mbackprop\u001b[0;34m(self, x, y)\u001b[0m\n\u001b[1;32m    167\u001b[0m \u001b[0;34m\u001b[0m\u001b[0m\n\u001b[1;32m    168\u001b[0m         \u001b[0;32mfor\u001b[0m \u001b[0ml\u001b[0m \u001b[0;32min\u001b[0m \u001b[0mrange\u001b[0m\u001b[0;34m(\u001b[0m\u001b[0;36m2\u001b[0m\u001b[0;34m,\u001b[0m \u001b[0mself\u001b[0m\u001b[0;34m.\u001b[0m\u001b[0mnum_layers\u001b[0m\u001b[0;34m)\u001b[0m\u001b[0;34m:\u001b[0m\u001b[0;34m\u001b[0m\u001b[0;34m\u001b[0m\u001b[0m\n\u001b[0;32m--> 169\u001b[0;31m             \u001b[0mdelta\u001b[0m \u001b[0;34m=\u001b[0m \u001b[0mnp\u001b[0m\u001b[0;34m.\u001b[0m\u001b[0mtranspose\u001b[0m\u001b[0;34m(\u001b[0m\u001b[0mself\u001b[0m\u001b[0;34m.\u001b[0m\u001b[0mhid_nonl\u001b[0m\u001b[0;34m.\u001b[0m\u001b[0mgradient\u001b[0m\u001b[0;34m(\u001b[0m\u001b[0mz_vector\u001b[0m\u001b[0;34m[\u001b[0m\u001b[0;34m-\u001b[0m\u001b[0ml\u001b[0m\u001b[0;34m]\u001b[0m\u001b[0;34m)\u001b[0m\u001b[0;34m,\u001b[0m\u001b[0;34m(\u001b[0m\u001b[0;36m0\u001b[0m\u001b[0;34m,\u001b[0m \u001b[0;36m1\u001b[0m\u001b[0;34m,\u001b[0m \u001b[0;36m3\u001b[0m\u001b[0;34m,\u001b[0m \u001b[0;36m2\u001b[0m\u001b[0;34m)\u001b[0m\u001b[0;34m)\u001b[0m \u001b[0;34m@\u001b[0m \u001b[0mnp\u001b[0m\u001b[0;34m.\u001b[0m\u001b[0mtranspose\u001b[0m\u001b[0;34m(\u001b[0m\u001b[0mself\u001b[0m\u001b[0;34m.\u001b[0m\u001b[0mweights\u001b[0m\u001b[0;34m[\u001b[0m\u001b[0;34m-\u001b[0m\u001b[0ml\u001b[0m\u001b[0;34m+\u001b[0m\u001b[0;36m1\u001b[0m\u001b[0;34m]\u001b[0m\u001b[0;34m)\u001b[0m \u001b[0;34m@\u001b[0m \u001b[0mdelta\u001b[0m\u001b[0;34m\u001b[0m\u001b[0;34m\u001b[0m\u001b[0m\n\u001b[0m\u001b[1;32m    170\u001b[0m             \u001b[0mnabla_b\u001b[0m\u001b[0;34m[\u001b[0m\u001b[0;34m-\u001b[0m\u001b[0ml\u001b[0m\u001b[0;34m]\u001b[0m \u001b[0;34m=\u001b[0m \u001b[0mdelta\u001b[0m\u001b[0;34m\u001b[0m\u001b[0;34m\u001b[0m\u001b[0m\n\u001b[1;32m    171\u001b[0m             \u001b[0mnabla_w\u001b[0m\u001b[0;34m[\u001b[0m\u001b[0;34m-\u001b[0m\u001b[0ml\u001b[0m\u001b[0;34m]\u001b[0m \u001b[0;34m=\u001b[0m \u001b[0mdelta\u001b[0m \u001b[0;34m@\u001b[0m \u001b[0mnp\u001b[0m\u001b[0;34m.\u001b[0m\u001b[0mtranspose\u001b[0m\u001b[0;34m(\u001b[0m\u001b[0mactivations\u001b[0m\u001b[0;34m[\u001b[0m\u001b[0;34m-\u001b[0m\u001b[0ml\u001b[0m\u001b[0;34m-\u001b[0m\u001b[0;36m1\u001b[0m\u001b[0;34m]\u001b[0m\u001b[0;34m,\u001b[0m\u001b[0;34m(\u001b[0m\u001b[0;36m0\u001b[0m\u001b[0;34m,\u001b[0m \u001b[0;36m1\u001b[0m\u001b[0;34m,\u001b[0m \u001b[0;36m3\u001b[0m\u001b[0;34m,\u001b[0m \u001b[0;36m2\u001b[0m\u001b[0;34m)\u001b[0m\u001b[0;34m)\u001b[0m\u001b[0;34m\u001b[0m\u001b[0;34m\u001b[0m\u001b[0m\n",
      "\u001b[0;32m~/Desktop/Research/Comp Neuro/Neural Network/NN_Functions.py\u001b[0m in \u001b[0;36mgradient\u001b[0;34m(self, x)\u001b[0m\n\u001b[1;32m     98\u001b[0m \u001b[0;34m\u001b[0m\u001b[0m\n\u001b[1;32m     99\u001b[0m         \u001b[0mvfunc\u001b[0m \u001b[0;34m=\u001b[0m \u001b[0mnp\u001b[0m\u001b[0;34m.\u001b[0m\u001b[0mvectorize\u001b[0m\u001b[0;34m(\u001b[0m\u001b[0mv_d\u001b[0m\u001b[0;34m,\u001b[0m \u001b[0motypes\u001b[0m\u001b[0;34m=\u001b[0m\u001b[0;34m[\u001b[0m\u001b[0mfloat\u001b[0m\u001b[0;34m]\u001b[0m\u001b[0;34m)\u001b[0m\u001b[0;34m\u001b[0m\u001b[0;34m\u001b[0m\u001b[0m\n\u001b[0;32m--> 100\u001b[0;31m         \u001b[0;32mreturn\u001b[0m \u001b[0mbatch_dig\u001b[0m\u001b[0;34m(\u001b[0m\u001b[0mvfunc\u001b[0m\u001b[0;34m(\u001b[0m\u001b[0mx\u001b[0m\u001b[0;34m)\u001b[0m\u001b[0;34m)\u001b[0m\u001b[0;34m\u001b[0m\u001b[0;34m\u001b[0m\u001b[0m\n\u001b[0m\u001b[1;32m    101\u001b[0m \u001b[0;34m\u001b[0m\u001b[0m\n\u001b[1;32m    102\u001b[0m     \u001b[0;32mdef\u001b[0m \u001b[0mfast\u001b[0m\u001b[0;34m(\u001b[0m\u001b[0mself\u001b[0m\u001b[0;34m)\u001b[0m\u001b[0;34m:\u001b[0m\u001b[0;34m\u001b[0m\u001b[0;34m\u001b[0m\u001b[0m\n",
      "\u001b[0;32m~/opt/anaconda3/lib/python3.8/site-packages/numpy/lib/function_base.py\u001b[0m in \u001b[0;36m__call__\u001b[0;34m(self, *args, **kwargs)\u001b[0m\n\u001b[1;32m   2111\u001b[0m             \u001b[0mvargs\u001b[0m\u001b[0;34m.\u001b[0m\u001b[0mextend\u001b[0m\u001b[0;34m(\u001b[0m\u001b[0;34m[\u001b[0m\u001b[0mkwargs\u001b[0m\u001b[0;34m[\u001b[0m\u001b[0m_n\u001b[0m\u001b[0;34m]\u001b[0m \u001b[0;32mfor\u001b[0m \u001b[0m_n\u001b[0m \u001b[0;32min\u001b[0m \u001b[0mnames\u001b[0m\u001b[0;34m]\u001b[0m\u001b[0;34m)\u001b[0m\u001b[0;34m\u001b[0m\u001b[0;34m\u001b[0m\u001b[0m\n\u001b[1;32m   2112\u001b[0m \u001b[0;34m\u001b[0m\u001b[0m\n\u001b[0;32m-> 2113\u001b[0;31m         \u001b[0;32mreturn\u001b[0m \u001b[0mself\u001b[0m\u001b[0;34m.\u001b[0m\u001b[0m_vectorize_call\u001b[0m\u001b[0;34m(\u001b[0m\u001b[0mfunc\u001b[0m\u001b[0;34m=\u001b[0m\u001b[0mfunc\u001b[0m\u001b[0;34m,\u001b[0m \u001b[0margs\u001b[0m\u001b[0;34m=\u001b[0m\u001b[0mvargs\u001b[0m\u001b[0;34m)\u001b[0m\u001b[0;34m\u001b[0m\u001b[0;34m\u001b[0m\u001b[0m\n\u001b[0m\u001b[1;32m   2114\u001b[0m \u001b[0;34m\u001b[0m\u001b[0m\n\u001b[1;32m   2115\u001b[0m     \u001b[0;32mdef\u001b[0m \u001b[0m_get_ufunc_and_otypes\u001b[0m\u001b[0;34m(\u001b[0m\u001b[0mself\u001b[0m\u001b[0;34m,\u001b[0m \u001b[0mfunc\u001b[0m\u001b[0;34m,\u001b[0m \u001b[0margs\u001b[0m\u001b[0;34m)\u001b[0m\u001b[0;34m:\u001b[0m\u001b[0;34m\u001b[0m\u001b[0;34m\u001b[0m\u001b[0m\n",
      "\u001b[0;32m~/opt/anaconda3/lib/python3.8/site-packages/numpy/lib/function_base.py\u001b[0m in \u001b[0;36m_vectorize_call\u001b[0;34m(self, func, args)\u001b[0m\n\u001b[1;32m   2198\u001b[0m \u001b[0;34m\u001b[0m\u001b[0m\n\u001b[1;32m   2199\u001b[0m             \u001b[0;32mif\u001b[0m \u001b[0mufunc\u001b[0m\u001b[0;34m.\u001b[0m\u001b[0mnout\u001b[0m \u001b[0;34m==\u001b[0m \u001b[0;36m1\u001b[0m\u001b[0;34m:\u001b[0m\u001b[0;34m\u001b[0m\u001b[0;34m\u001b[0m\u001b[0m\n\u001b[0;32m-> 2200\u001b[0;31m                 \u001b[0mres\u001b[0m \u001b[0;34m=\u001b[0m \u001b[0marray\u001b[0m\u001b[0;34m(\u001b[0m\u001b[0moutputs\u001b[0m\u001b[0;34m,\u001b[0m \u001b[0mcopy\u001b[0m\u001b[0;34m=\u001b[0m\u001b[0;32mFalse\u001b[0m\u001b[0;34m,\u001b[0m \u001b[0msubok\u001b[0m\u001b[0;34m=\u001b[0m\u001b[0;32mTrue\u001b[0m\u001b[0;34m,\u001b[0m \u001b[0mdtype\u001b[0m\u001b[0;34m=\u001b[0m\u001b[0motypes\u001b[0m\u001b[0;34m[\u001b[0m\u001b[0;36m0\u001b[0m\u001b[0;34m]\u001b[0m\u001b[0;34m)\u001b[0m\u001b[0;34m\u001b[0m\u001b[0;34m\u001b[0m\u001b[0m\n\u001b[0m\u001b[1;32m   2201\u001b[0m             \u001b[0;32melse\u001b[0m\u001b[0;34m:\u001b[0m\u001b[0;34m\u001b[0m\u001b[0;34m\u001b[0m\u001b[0m\n\u001b[1;32m   2202\u001b[0m                 res = tuple([array(x, copy=False, subok=True, dtype=t)\n",
      "\u001b[0;31mKeyboardInterrupt\u001b[0m: "
     ]
    }
   ],
   "source": [
    "%%time\n",
    "EPOCHS = 300\n",
    "\n",
    "training_loss = []\n",
    "training_count = []\n",
    "validation_loss = []\n",
    "validation_count = []\n",
    "\n",
    "for epoch in range(EPOCHS):\n",
    "    \n",
    "    train_count = 0\n",
    "    for i, (input, label) in enumerate(train_dataloader): \n",
    "        batch_size = 60\n",
    "        # nabla_b1, nabla_w1 = my_net.gradient_approximation(input, label)\n",
    "        my_net.update(input, label , lr = my_net.lr)\n",
    "        predicted = my_net.forward(input.numpy().reshape(batch_size,1,784,1))\n",
    "        predicted = np.argmax(predicted , axis = 2).reshape(batch_size,1)\n",
    "        \n",
    "        label = label.numpy().reshape(batch_size,1)\n",
    "        count = batch_size - np.count_nonzero(predicted - label)\n",
    "        train_count += count \n",
    "\n",
    "        \n",
    "    train_count = train_count / (batch_size*len(train_dataloader))\n",
    "    train_loss = my_net.loss / (batch_size*len(train_dataloader))\n",
    "    training_loss.append(train_loss)\n",
    "    training_count.append(train_count)\n",
    "    \n",
    "    \n",
    "    valid_loss= 0\n",
    "    valid_count = 0\n",
    "    for input, label in testing_dataloader:\n",
    "        batch_size = testing_batch_size\n",
    "        predicted = my_net.forward(input.numpy().reshape(batch_size,1,784,1))\n",
    "        one_hot_encoded_label = np.zeros((batch_size, 1, 10, 1))\n",
    "        one_hot_encoded_label[np.arange(batch_size),:,label,:] = 1 \n",
    "        valid_loss += my_net.Loss.Loss(predicted, one_hot_encoded_label)\n",
    "        label = label.numpy().reshape(batch_size,1)\n",
    "        predicted = np.argmax(predicted , axis = 2).reshape(batch_size,1)\n",
    "        count = batch_size - np.count_nonzero(predicted - label)\n",
    "        valid_count += count \n",
    "    \n",
    "    valid_loss = valid_loss / (batch_size*len(testing_dataloader))\n",
    "    valid_count = valid_count / (batch_size*len(testing_dataloader))\n",
    "    validation_loss.append(valid_loss)\n",
    "    validation_count.append(valid_count)\n",
    "    print('Epoch: {} | training_loss: {} | training_accuracy: {}% | validation_loss: {} | validation_accuracy: {}%'.format(epoch, train_loss, train_count*100, valid_loss, valid_count*100))\n",
    "    my_net.loss = 0"
   ]
  },
  {
   "cell_type": "code",
   "execution_count": 8,
   "id": "f0cb8e3e",
   "metadata": {},
   "outputs": [
    {
     "data": {
      "image/png": "[encoded data removed]",
      "text/plain": [
       "<Figure size 576x432 with 1 Axes>"
      ]
     },
     "metadata": {
      "needs_background": "light"
     },
     "output_type": "display_data"
    }
   ],
   "source": [
    "plt.figure(figsize = (8, 6))\n",
    "plt.plot(training_loss, label = 'training loss', markersize = 3)\n",
    "plt.plot(validation_loss, label = 'validation loss', markersize = 3)\n",
    "plt.title(\"loss\")\n",
    "plt.legend()\n",
    "plt.show()"
   ]
  },
  {
   "cell_type": "code",
   "execution_count": 9,
   "id": "cc79475a",
   "metadata": {},
   "outputs": [
    {
     "data": {
      "image/png": "[encoded data removed]",
      "text/plain": [
       "<Figure size 576x432 with 1 Axes>"
      ]
     },
     "metadata": {
      "needs_background": "light"
     },
     "output_type": "display_data"
    }
   ],
   "source": [
    "plt.figure(figsize = (8, 6))\n",
    "plt.plot(training_count, label = 'training accuracy', markersize = 3)\n",
    "plt.plot(validation_count, label = 'validation accuracy', markersize = 3)\n",
    "plt.title(\"accuracy\")\n",
    "plt.legend()\n",
    "plt.show()"
   ]
  },
  {
   "cell_type": "markdown",
   "id": "61d2aff4",
   "metadata": {},
   "source": [
    "#### "
   ]
  },
  {
   "cell_type": "code",
   "execution_count": 10,
   "id": "a3eff02b",
   "metadata": {},
   "outputs": [
    {
     "data": {
      "image/png": "[encoded data removed]",
      "text/plain": [
       "<Figure size 576x432 with 1 Axes>"
      ]
     },
     "metadata": {
      "needs_background": "light"
     },
     "output_type": "display_data"
    }
   ],
   "source": [
    "delta_biases = list(zip(*my_net.delta_biases))\n",
    "plt.figure(figsize = (8, 6))\n",
    "plt.plot(delta_biases[0], label = 'delta biases[0]', markersize = 3)\n",
    "plt.title(\"delta_biases[0]\")\n",
    "plt.legend()\n",
    "plt.show()"
   ]
  },
  {
   "cell_type": "code",
   "execution_count": 11,
   "id": "51997c1d",
   "metadata": {},
   "outputs": [
    {
     "data": {
      "image/png": "[encoded data removed]",
      "text/plain": [
       "<Figure size 576x432 with 1 Axes>"
      ]
     },
     "metadata": {
      "needs_background": "light"
     },
     "output_type": "display_data"
    }
   ],
   "source": [
    "plt.figure(figsize = (8, 6))\n",
    "plt.plot(delta_biases[1], label = 'delta biases[1]', markersize = 3)\n",
    "plt.title(\"delta_biases[1]\")\n",
    "plt.legend()\n",
    "plt.show()"
   ]
  },
  {
   "cell_type": "code",
   "execution_count": 12,
   "id": "abc228a1",
   "metadata": {},
   "outputs": [
    {
     "data": {
      "text/plain": [
       "'\\nplt.figure(figsize = (8, 6))\\nplt.plot(delta_biases[2], label = \\'delta biases[2]\\', markersize = 3)\\nplt.title(\"delta_biases[2]\")\\nplt.legend()\\nplt.show()\\n'"
      ]
     },
     "execution_count": 12,
     "metadata": {},
     "output_type": "execute_result"
    }
   ],
   "source": [
    "'''\n",
    "plt.figure(figsize = (8, 6))\n",
    "plt.plot(delta_biases[2], label = 'delta biases[2]', markersize = 3)\n",
    "plt.title(\"delta_biases[2]\")\n",
    "plt.legend()\n",
    "plt.show()\n",
    "'''"
   ]
  },
  {
   "cell_type": "code",
   "execution_count": 13,
   "id": "33f73aa2",
   "metadata": {},
   "outputs": [
    {
     "data": {
      "image/png": "[encoded data removed]",
      "text/plain": [
       "<Figure size 576x432 with 1 Axes>"
      ]
     },
     "metadata": {
      "needs_background": "light"
     },
     "output_type": "display_data"
    }
   ],
   "source": [
    "delta_weights = list(zip(*my_net.delta_weights))\n",
    "plt.figure(figsize = (8, 6))\n",
    "plt.plot(delta_weights[0], label = 'delta_weights[0]', markersize = 3)\n",
    "plt.title(\"delta_weights[0]\")\n",
    "plt.legend()\n",
    "plt.show()"
   ]
  },
  {
   "cell_type": "code",
   "execution_count": 14,
   "id": "b50217bf",
   "metadata": {},
   "outputs": [
    {
     "data": {
      "image/png": "[encoded data removed]",
      "text/plain": [
       "<Figure size 576x432 with 1 Axes>"
      ]
     },
     "metadata": {
      "needs_background": "light"
     },
     "output_type": "display_data"
    }
   ],
   "source": [
    "plt.figure(figsize = (8, 6))\n",
    "plt.plot(delta_weights[1], label = 'delta_weights[1]', markersize = 3)\n",
    "plt.title(\"delta_weights[1]\")\n",
    "plt.legend()\n",
    "plt.show()"
   ]
  },
  {
   "cell_type": "code",
   "execution_count": 15,
   "id": "239c23b8",
   "metadata": {},
   "outputs": [
    {
     "data": {
      "text/plain": [
       "'\\nplt.figure(figsize = (8, 6))\\nplt.plot(delta_weights[2], label = \\'delta_weights[2]\\', markersize = 3)\\nplt.title(\"delta_weights[2]\")\\nplt.legend()\\nplt.show()\\n'"
      ]
     },
     "execution_count": 15,
     "metadata": {},
     "output_type": "execute_result"
    }
   ],
   "source": [
    "'''\n",
    "plt.figure(figsize = (8, 6))\n",
    "plt.plot(delta_weights[2], label = 'delta_weights[2]', markersize = 3)\n",
    "plt.title(\"delta_weights[2]\")\n",
    "plt.legend()\n",
    "plt.show()\n",
    "'''"
   ]
  },
  {
   "cell_type": "code",
   "execution_count": 16,
   "id": "5e24a910",
   "metadata": {},
   "outputs": [
    {
     "data": {
      "image/png": "[encoded data removed]",
      "text/plain": [
       "<Figure size 576x432 with 1 Axes>"
      ]
     },
     "metadata": {
      "needs_background": "light"
     },
     "output_type": "display_data"
    }
   ],
   "source": [
    "sum_biases = list(zip(*my_net.sum_biases))\n",
    "plt.figure(figsize = (8, 6))\n",
    "plt.plot(sum_biases[0], label = 'sum_biases[0]', markersize = 3)\n",
    "plt.title(\"sum_biases[0]\")\n",
    "plt.legend()\n",
    "plt.show()"
   ]
  },
  {
   "cell_type": "code",
   "execution_count": 17,
   "id": "3e7bf522",
   "metadata": {},
   "outputs": [
    {
     "data": {
      "image/png": "[encoded data removed]",
      "text/plain": [
       "<Figure size 576x432 with 1 Axes>"
      ]
     },
     "metadata": {
      "needs_background": "light"
     },
     "output_type": "display_data"
    }
   ],
   "source": [
    "plt.figure(figsize = (8, 6))\n",
    "plt.plot(sum_biases[1], label = 'sum_biases[1]', markersize = 3)\n",
    "plt.title(\"sum_biases[1]\")\n",
    "plt.legend()\n",
    "plt.show()"
   ]
  },
  {
   "cell_type": "code",
   "execution_count": 18,
   "id": "f513c28b",
   "metadata": {},
   "outputs": [
    {
     "data": {
      "text/plain": [
       "'\\nplt.figure(figsize = (8, 6))\\nplt.plot(sum_biases[2], label = \\'sum_biases[2]\\', markersize = 3)\\nplt.title(\"sum_biases[2]\")\\nplt.legend()\\nplt.show()\\n'"
      ]
     },
     "execution_count": 18,
     "metadata": {},
     "output_type": "execute_result"
    }
   ],
   "source": [
    "'''\n",
    "plt.figure(figsize = (8, 6))\n",
    "plt.plot(sum_biases[2], label = 'sum_biases[2]', markersize = 3)\n",
    "plt.title(\"sum_biases[2]\")\n",
    "plt.legend()\n",
    "plt.show()\n",
    "'''"
   ]
  },
  {
   "cell_type": "code",
   "execution_count": 19,
   "id": "0c1470d4",
   "metadata": {},
   "outputs": [
    {
     "data": {
      "image/png": "[encoded data removed]",
      "text/plain": [
       "<Figure size 576x432 with 1 Axes>"
      ]
     },
     "metadata": {
      "needs_background": "light"
     },
     "output_type": "display_data"
    }
   ],
   "source": [
    "sum_weights = list(zip(*my_net.sum_weights))\n",
    "plt.figure(figsize = (8, 6))\n",
    "plt.plot(sum_weights[0], label = 'sum_weights[0]', markersize = 3)\n",
    "plt.title(\"sum_weights[0]\")\n",
    "plt.legend()\n",
    "plt.show()"
   ]
  },
  {
   "cell_type": "code",
   "execution_count": 20,
   "id": "ceef6b64",
   "metadata": {},
   "outputs": [
    {
     "data": {
      "image/png": "[encoded data removed]",
      "text/plain": [
       "<Figure size 576x432 with 1 Axes>"
      ]
     },
     "metadata": {
      "needs_background": "light"
     },
     "output_type": "display_data"
    }
   ],
   "source": [
    "plt.figure(figsize = (8, 6))\n",
    "plt.plot(sum_weights[1], label = 'sum_weights[1]', markersize = 3)\n",
    "plt.title(\"sum_weights[1]\")\n",
    "plt.legend()\n",
    "plt.show()"
   ]
  },
  {
   "cell_type": "code",
   "execution_count": 21,
   "id": "0d7f63ea",
   "metadata": {},
   "outputs": [
    {
     "data": {
      "text/plain": [
       "'\\nplt.figure(figsize = (8, 6))\\nplt.plot(sum_weights[2], label = \\'sum_weights[2]\\', markersize = 3)\\nplt.title(\"sum_weights[2]\")\\nplt.legend()\\nplt.show()\\n'"
      ]
     },
     "execution_count": 21,
     "metadata": {},
     "output_type": "execute_result"
    }
   ],
   "source": [
    "'''\n",
    "plt.figure(figsize = (8, 6))\n",
    "plt.plot(sum_weights[2], label = 'sum_weights[2]', markersize = 3)\n",
    "plt.title(\"sum_weights[2]\")\n",
    "plt.legend()\n",
    "plt.show()\n",
    "'''"
   ]
  }
 ],
 "metadata": {
  "kernelspec": {
   "display_name": "Python 3 (ipykernel)",
   "language": "python",
   "name": "python3"
  },
  "language_info": {
   "codemirror_mode": {
    "name": "ipython",
    "version": 3
   },
   "file_extension": ".py",
   "mimetype": "text/x-python",
   "name": "python",
   "nbconvert_exporter": "python",
   "pygments_lexer": "ipython3",
   "version": "3.10.6"
  }
 },
 "nbformat": 4,
 "nbformat_minor": 5
}
