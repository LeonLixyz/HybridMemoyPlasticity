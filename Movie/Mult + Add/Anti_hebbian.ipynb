{
 "cells": [
  {
   "cell_type": "code",
   "execution_count": 1,
   "id": "829fc64b",
   "metadata": {},
   "outputs": [],
   "source": [
    "import Data_Loader as DL\n",
    "import torch\n",
    "import torch.nn as nn\n",
    "import torch.nn.functional as F\n",
    "import torch.optim as optim\n",
    "from torch.utils.data import random_split\n",
    "import numpy as np\n",
    "import matplotlib.pyplot as plt\n",
    "import math\n",
    "import random\n",
    "import torchviz\n",
    "import sys\n",
    "import copy\n",
    "import os\n",
    "import seaborn as sns\n",
    "from time import sleep\n",
    "from rich.console import Console\n",
    "from memory_profiler import profile"
   ]
  },
  {
   "cell_type": "code",
   "execution_count": 2,
   "id": "13567489",
   "metadata": {},
   "outputs": [],
   "source": [
    "def generate_new_scence(movie, target, total_target, scene_t,vec_len,variation = 0.1):\n",
    "    Scence = []\n",
    "    Variable = int(vec_len * variation)\n",
    "    Base = 2 * torch.bernoulli(torch.empty(vec_len).uniform_(0, 1)) - 1\n",
    "    Scence.append(copy.deepcopy(Base))\n",
    "    for i in range(1, scene_t):\n",
    "        random_index = random.sample(range(vec_len), Variable)\n",
    "        next_frame = copy.deepcopy(Scence[-i])\n",
    "        next_frame[random_index] = next_frame[random_index] * -1\n",
    "        Scence.append(copy.deepcopy(next_frame))\n",
    "        total_target.append(torch.ones(1) * 0.5)\n",
    "\n",
    "    total_target.append(torch.zeros(1))\n",
    "    movie.append(Scence)\n",
    "    target.append(torch.zeros(1))"
   ]
  },
  {
   "cell_type": "code",
   "execution_count": 3,
   "id": "c9a34607",
   "metadata": {},
   "outputs": [],
   "source": [
    "def generate_movie(R,T,vec_len,variation):\n",
    "    movie = []\n",
    "    target = []\n",
    "    total_target =[]\n",
    "    scene_t = 5\n",
    "    for i in range(R):\n",
    "        generate_new_scence(movie, target, total_target, scene_t, vec_len ,variation)\n",
    "\n",
    "    for i in range(R, T):\n",
    "        if np.random.rand() >= 0.5 and (not (target[i - R] == 1)):\n",
    "            movie.append(random.sample(movie[i - R], len(movie[i - R])))\n",
    "            target.append(torch.ones(1))\n",
    "            for j in range(len(movie[i - R]) - 1):\n",
    "                total_target.append(torch.ones(1)*0.5)\n",
    "            total_target.append(torch.ones(1))\n",
    "\n",
    "        else:\n",
    "            generate_new_scence(movie, target, total_target, scene_t, vec_len ,variation)\n",
    "    return movie, target, total_target"
   ]
  },
  {
   "cell_type": "code",
   "execution_count": 46,
   "id": "71ca374d",
   "metadata": {},
   "outputs": [],
   "source": [
    "movie, target, total_target = generate_movie(3,100,10,0.1)"
   ]
  },
  {
   "cell_type": "code",
   "execution_count": 47,
   "id": "82762d1a",
   "metadata": {},
   "outputs": [],
   "source": [
    "total_target = torch.FloatTensor(total_target).detach().numpy()"
   ]
  },
  {
   "cell_type": "code",
   "execution_count": 48,
   "id": "d9c2a055",
   "metadata": {},
   "outputs": [
    {
     "data": {
      "text/plain": [
       "29"
      ]
     },
     "execution_count": 48,
     "metadata": {},
     "output_type": "execute_result"
    }
   ],
   "source": [
    "np.count_nonzero(total_target[4::5]==1)"
   ]
  },
  {
   "cell_type": "code",
   "execution_count": 55,
   "id": "44cb1061",
   "metadata": {},
   "outputs": [
    {
     "data": {
      "text/plain": [
       "<matplotlib.collections.PathCollection at 0x2a99dc130>"
      ]
     },
     "execution_count": 55,
     "metadata": {},
     "output_type": "execute_result"
    },
    {
     "data": {
      "image/png": "[encoded data removed]",
      "text/plain": [
       "<Figure size 640x480 with 1 Axes>"
      ]
     },
     "metadata": {},
     "output_type": "display_data"
    }
   ],
   "source": [
    "plt.scatter(np.arange(5 * 100)[4::5],total_target[4::5],marker='.', color='r')"
   ]
  },
  {
   "cell_type": "code",
   "execution_count": 36,
   "id": "2e5ddd3b",
   "metadata": {},
   "outputs": [
    {
     "data": {
      "text/plain": [
       "(100,)"
      ]
     },
     "execution_count": 36,
     "metadata": {},
     "output_type": "execute_result"
    }
   ],
   "source": [
    "np.arange(500)[4::5].shape"
   ]
  },
  {
   "cell_type": "code",
   "execution_count": 35,
   "id": "036fbea8",
   "metadata": {},
   "outputs": [
    {
     "data": {
      "text/plain": [
       "(100,)"
      ]
     },
     "execution_count": 35,
     "metadata": {},
     "output_type": "execute_result"
    }
   ],
   "source": [
    "total_target[4::5].shape"
   ]
  },
  {
   "cell_type": "code",
   "execution_count": 17,
   "id": "90d48c34",
   "metadata": {},
   "outputs": [
    {
     "data": {
      "text/plain": [
       "tensor([-1., -1., -1., -1., -1.,  1.,  1., -1., -1.,  1.])"
      ]
     },
     "execution_count": 17,
     "metadata": {},
     "output_type": "execute_result"
    }
   ],
   "source": [
    "Base"
   ]
  },
  {
   "cell_type": "code",
   "execution_count": null,
   "id": "2ea7fb1a",
   "metadata": {},
   "outputs": [],
   "source": []
  }
 ],
 "metadata": {
  "kernelspec": {
   "display_name": "Python 3 (ipykernel)",
   "language": "python",
   "name": "python3"
  },
  "language_info": {
   "codemirror_mode": {
    "name": "ipython",
    "version": 3
   },
   "file_extension": ".py",
   "mimetype": "text/x-python",
   "name": "python",
   "nbconvert_exporter": "python",
   "pygments_lexer": "ipython3",
   "version": "3.10.6"
  }
 },
 "nbformat": 4,
 "nbformat_minor": 5
}
