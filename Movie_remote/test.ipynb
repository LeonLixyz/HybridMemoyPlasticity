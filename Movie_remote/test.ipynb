{
 "cells": [
  {
   "cell_type": "code",
   "execution_count": 2,
   "id": "c5de062b",
   "metadata": {},
   "outputs": [],
   "source": [
    "import numpy as np"
   ]
  },
  {
   "cell_type": "code",
   "execution_count": 32,
   "id": "7bacbb89",
   "metadata": {},
   "outputs": [],
   "source": [
    "eta = (np.arange(5) * 0.1).reshape(5,1)\n",
    "h =  np.random.rand(5, 5)"
   ]
  },
  {
   "cell_type": "code",
   "execution_count": 33,
   "id": "90078c46",
   "metadata": {},
   "outputs": [
    {
     "data": {
      "text/plain": [
       "array([[0.00000000e+00, 0.00000000e+00, 0.00000000e+00, 0.00000000e+00,\n",
       "        0.00000000e+00],\n",
       "       [6.71961439e-02, 7.11696938e-03, 6.69932180e-02, 2.13006329e-02,\n",
       "        3.00273837e-04],\n",
       "       [5.38062584e-02, 1.91012479e-01, 1.88381880e-01, 2.34898771e-02,\n",
       "        7.96526476e-02],\n",
       "       [2.25019943e-01, 1.87291785e-01, 6.20069983e-03, 2.48175762e-01,\n",
       "        2.35388050e-01],\n",
       "       [2.59201371e-01, 3.08468805e-01, 2.82804225e-01, 1.87917221e-01,\n",
       "        2.44621088e-01]])"
      ]
     },
     "execution_count": 33,
     "metadata": {},
     "output_type": "execute_result"
    }
   ],
   "source": [
    "eta * h"
   ]
  },
  {
   "cell_type": "code",
   "execution_count": 34,
   "id": "01d1d74c",
   "metadata": {},
   "outputs": [
    {
     "data": {
      "text/plain": [
       "array([[0. ],\n",
       "       [0.1],\n",
       "       [0.2],\n",
       "       [0.3],\n",
       "       [0.4]])"
      ]
     },
     "execution_count": 34,
     "metadata": {},
     "output_type": "execute_result"
    }
   ],
   "source": [
    "eta"
   ]
  },
  {
   "cell_type": "code",
   "execution_count": 35,
   "id": "5fc3bdc6",
   "metadata": {},
   "outputs": [
    {
     "data": {
      "text/plain": [
       "array([[0.32945651, 0.40520211, 0.42757401, 0.64707391, 0.87876178],\n",
       "       [0.67196144, 0.07116969, 0.66993218, 0.21300633, 0.00300274],\n",
       "       [0.26903129, 0.9550624 , 0.9419094 , 0.11744939, 0.39826324],\n",
       "       [0.75006648, 0.62430595, 0.020669  , 0.82725254, 0.78462683],\n",
       "       [0.64800343, 0.77117201, 0.70701056, 0.46979305, 0.61155272]])"
      ]
     },
     "execution_count": 35,
     "metadata": {},
     "output_type": "execute_result"
    }
   ],
   "source": [
    "h"
   ]
  },
  {
   "cell_type": "code",
   "execution_count": null,
   "id": "a2d66513",
   "metadata": {},
   "outputs": [],
   "source": [
    "networks = [[1,1],[1,0],[1,0.5],[0.5,0.5],[0.5,0]]\n",
    "commands = [    \n",
    "    'ML [50,50] [1,1] [M,A] 4',    \n",
    "    'ML [50,50] [1,1] [M,M] 4',    \n",
    "    'Dyn_RO [50,50] [1,1] [M,A] 4',    \n",
    "    'Dyn_RO [50,50] [1,1] [M,M] 4',     \n",
    "    'end',\n",
    "]\n",
    "modified_commands = []\n",
    "for network in networks:\n",
    "    for command in commands:\n",
    "        modified_command = command.replace('[1,1]', str(network))\n",
    "        modified_commands.append(modified_command)\n",
    "\n",
    "from itertools import permutations\n",
    "all_permutations = list(permutations(modified_commands, len(modified_commands)))\n"
   ]
  },
  {
   "cell_type": "code",
   "execution_count": 2,
   "id": "f3b0b263",
   "metadata": {},
   "outputs": [],
   "source": [
    "networks = [[1,1],[1,0],[1,0.5],[0.5,0.5],[0.5,0]]\n",
    "\n",
    "commands = [    \n",
    "    'ML [50,50] [1,1] [M,A] 4',    \n",
    "    'ML [50,50] [1,1] [M,M] 4',    \n",
    "    'Dyn_RO [50,50] [1,1] [M,A] 4',    \n",
    "    'Dyn_RO [50,50] [1,1] [M,M] 4',     \n",
    "    'end',\n",
    "]\n",
    "\n",
    "modified_commands = []\n",
    "for network in networks:\n",
    "    for command in commands:\n",
    "        modified_command = command.replace('[1,1]', str(network))\n",
    "        modified_commands.append(modified_command)"
   ]
  },
  {
   "cell_type": "code",
   "execution_count": 3,
   "id": "1473ae10",
   "metadata": {},
   "outputs": [
    {
     "data": {
      "text/plain": [
       "['ML [50,50] [1, 1] [M,A] 4',\n",
       " 'ML [50,50] [1, 1] [M,M] 4',\n",
       " 'Dyn_RO [50,50] [1, 1] [M,A] 4',\n",
       " 'Dyn_RO [50,50] [1, 1] [M,M] 4',\n",
       " 'end',\n",
       " 'ML [50,50] [1, 0] [M,A] 4',\n",
       " 'ML [50,50] [1, 0] [M,M] 4',\n",
       " 'Dyn_RO [50,50] [1, 0] [M,A] 4',\n",
       " 'Dyn_RO [50,50] [1, 0] [M,M] 4',\n",
       " 'end',\n",
       " 'ML [50,50] [1, 0.5] [M,A] 4',\n",
       " 'ML [50,50] [1, 0.5] [M,M] 4',\n",
       " 'Dyn_RO [50,50] [1, 0.5] [M,A] 4',\n",
       " 'Dyn_RO [50,50] [1, 0.5] [M,M] 4',\n",
       " 'end',\n",
       " 'ML [50,50] [0.5, 0.5] [M,A] 4',\n",
       " 'ML [50,50] [0.5, 0.5] [M,M] 4',\n",
       " 'Dyn_RO [50,50] [0.5, 0.5] [M,A] 4',\n",
       " 'Dyn_RO [50,50] [0.5, 0.5] [M,M] 4',\n",
       " 'end',\n",
       " 'ML [50,50] [0.5, 0] [M,A] 4',\n",
       " 'ML [50,50] [0.5, 0] [M,M] 4',\n",
       " 'Dyn_RO [50,50] [0.5, 0] [M,A] 4',\n",
       " 'Dyn_RO [50,50] [0.5, 0] [M,M] 4',\n",
       " 'end']"
      ]
     },
     "execution_count": 3,
     "metadata": {},
     "output_type": "execute_result"
    }
   ],
   "source": [
    "modified_commands"
   ]
  },
  {
   "cell_type": "code",
   "execution_count": null,
   "id": "96a62c74",
   "metadata": {},
   "outputs": [],
   "source": []
  }
 ],
 "metadata": {
  "kernelspec": {
   "display_name": "Python 3 (ipykernel)",
   "language": "python",
   "name": "python3"
  },
  "language_info": {
   "codemirror_mode": {
    "name": "ipython",
    "version": 3
   },
   "file_extension": ".py",
   "mimetype": "text/x-python",
   "name": "python",
   "nbconvert_exporter": "python",
   "pygments_lexer": "ipython3",
   "version": "3.10.9"
  }
 },
 "nbformat": 4,
 "nbformat_minor": 5
}
